{
  "cells": [
    {
      "cell_type": "markdown",
      "metadata": {
        "colab_type": "text",
        "id": "view-in-github"
      },
      "source": [
        "<a href=\"https://colab.research.google.com/github/ThusithaDeepal/predictionmodel/blob/master/prediction.ipynb\" target=\"_parent\"><img src=\"https://colab.research.google.com/assets/colab-badge.svg\" alt=\"Open In Colab\"/></a>"
      ]
    },
    {
      "cell_type": "code",
      "execution_count": 17,
      "metadata": {
        "id": "vcIuTPD71XnA"
      },
      "outputs": [],
      "source": [
        "import matplotlib.pyplot as plt\n",
        "import numpy as np\n",
        "import pandas as pd\n",
        "from sklearn.model_selection import train_test_split\n",
        "from sklearn.model_selection import cross_val_score\n",
        "from sklearn.model_selection import KFold\n",
        "from sklearn.pipeline import Pipeline\n",
        "from sklearn.preprocessing import MinMaxScaler\n",
        "from tensorflow.keras.models import Sequential\n",
        "from tensorflow.keras.layers import Dense, Input\n",
        "from tensorflow.keras import Sequential\n",
        "from tensorflow.keras.activations import sigmoid"
      ]
    },
    {
      "cell_type": "code",
      "execution_count": 26,
      "metadata": {
        "colab": {
          "base_uri": "https://localhost:8080/"
        },
        "id": "yvhwX5nP1nhn",
        "outputId": "488fe343-31be-4ff5-df85-5bf25d3f7f4e"
      },
      "outputs": [
        {
          "data": {
            "text/html": [
              "<div>\n",
              "<style scoped>\n",
              "    .dataframe tbody tr th:only-of-type {\n",
              "        vertical-align: middle;\n",
              "    }\n",
              "\n",
              "    .dataframe tbody tr th {\n",
              "        vertical-align: top;\n",
              "    }\n",
              "\n",
              "    .dataframe thead th {\n",
              "        text-align: right;\n",
              "    }\n",
              "</style>\n",
              "<table border=\"1\" class=\"dataframe\">\n",
              "  <thead>\n",
              "    <tr style=\"text-align: right;\">\n",
              "      <th></th>\n",
              "      <th>Voltage</th>\n",
              "    </tr>\n",
              "    <tr>\n",
              "      <th>time</th>\n",
              "      <th></th>\n",
              "    </tr>\n",
              "  </thead>\n",
              "  <tbody>\n",
              "    <tr>\n",
              "      <th>2006-12-16 17:00:00</th>\n",
              "      <td>234.643889</td>\n",
              "    </tr>\n",
              "    <tr>\n",
              "      <th>2006-12-16 18:00:00</th>\n",
              "      <td>234.580167</td>\n",
              "    </tr>\n",
              "    <tr>\n",
              "      <th>2006-12-16 19:00:00</th>\n",
              "      <td>233.232500</td>\n",
              "    </tr>\n",
              "    <tr>\n",
              "      <th>2006-12-16 20:00:00</th>\n",
              "      <td>234.071500</td>\n",
              "    </tr>\n",
              "    <tr>\n",
              "      <th>2006-12-16 21:00:00</th>\n",
              "      <td>237.158667</td>\n",
              "    </tr>\n",
              "    <tr>\n",
              "      <th>...</th>\n",
              "      <td>...</td>\n",
              "    </tr>\n",
              "    <tr>\n",
              "      <th>2010-11-26 17:00:00</th>\n",
              "      <td>237.069667</td>\n",
              "    </tr>\n",
              "    <tr>\n",
              "      <th>2010-11-26 18:00:00</th>\n",
              "      <td>237.531833</td>\n",
              "    </tr>\n",
              "    <tr>\n",
              "      <th>2010-11-26 19:00:00</th>\n",
              "      <td>236.741000</td>\n",
              "    </tr>\n",
              "    <tr>\n",
              "      <th>2010-11-26 20:00:00</th>\n",
              "      <td>239.396000</td>\n",
              "    </tr>\n",
              "    <tr>\n",
              "      <th>2010-11-26 21:00:00</th>\n",
              "      <td>239.690000</td>\n",
              "    </tr>\n",
              "  </tbody>\n",
              "</table>\n",
              "<p>34168 rows × 1 columns</p>\n",
              "</div>"
            ],
            "text/plain": [
              "                        Voltage\n",
              "time                           \n",
              "2006-12-16 17:00:00  234.643889\n",
              "2006-12-16 18:00:00  234.580167\n",
              "2006-12-16 19:00:00  233.232500\n",
              "2006-12-16 20:00:00  234.071500\n",
              "2006-12-16 21:00:00  237.158667\n",
              "...                         ...\n",
              "2010-11-26 17:00:00  237.069667\n",
              "2010-11-26 18:00:00  237.531833\n",
              "2010-11-26 19:00:00  236.741000\n",
              "2010-11-26 20:00:00  239.396000\n",
              "2010-11-26 21:00:00  239.690000\n",
              "\n",
              "[34168 rows x 1 columns]"
            ]
          },
          "execution_count": 26,
          "metadata": {},
          "output_type": "execute_result"
        }
      ],
      "source": [
        "import pandas as pd\n",
        "df = pd.read_csv('kaggle_data_1h.csv')\n",
        "df = df[['time', 'Voltage']]  # Fix the KeyError by using double brackets [[]] to select multiple columns\n",
        "df['time'] = pd.to_datetime(df['time'])\n",
        "\n",
        "# Set the time column as the index\n",
        "df = df.set_index('time')\n",
        "df"
      ]
    },
    {
      "cell_type": "code",
      "execution_count": 33,
      "metadata": {
        "colab": {
          "base_uri": "https://localhost:8080/"
        },
        "id": "h4oSo7E65HXI",
        "outputId": "549513a7-8cbd-4ebf-d62a-b1a8182047ac"
      },
      "outputs": [],
      "source": [
        "x_train, x_test, y_train, y_test = train_test_split(df.index, df['Voltage'], test_size=0.2, random_state=0, shuffle=False)"
      ]
    },
    {
      "cell_type": "code",
      "execution_count": 45,
      "metadata": {
        "colab": {
          "base_uri": "https://localhost:8080/"
        },
        "id": "qNiUHeA_5nfl",
        "outputId": "05856037-c712-49d4-e2f9-66bf2639a844"
      },
      "outputs": [
        {
          "name": "stdout",
          "output_type": "stream",
          "text": [
            "Model: \"sequential_3\"\n",
            "_________________________________________________________________\n",
            " Layer (type)                Output Shape              Param #   \n",
            "=================================================================\n",
            " dense_9 (Dense)             (None, 12)                72        \n",
            "                                                                 \n",
            " dense_10 (Dense)            (None, 8)                 104       \n",
            "                                                                 \n",
            " dense_11 (Dense)            (None, 1)                 9         \n",
            "                                                                 \n",
            "=================================================================\n",
            "Total params: 185 (740.00 Byte)\n",
            "Trainable params: 185 (740.00 Byte)\n",
            "Non-trainable params: 0 (0.00 Byte)\n",
            "_________________________________________________________________\n"
          ]
        }
      ],
      "source": [
        "model=Sequential()\n",
        "model.add(Dense(12,input_dim=5,activation='relu'))\n",
        "model.add(Dense(8,activation='relu'))\n",
        "model.add(Dense(1,activation='linear'))\n",
        "model.summary()"
      ]
    },
    {
      "cell_type": "code",
      "execution_count": 46,
      "metadata": {
        "id": "5urr5JWbEfQP"
      },
      "outputs": [],
      "source": [
        "model.compile(loss='mse',optimizer='adam',metrics=['mse','mae'])"
      ]
    },
    {
      "cell_type": "code",
      "execution_count": null,
      "metadata": {},
      "outputs": [],
      "source": []
    },
    {
      "cell_type": "code",
      "execution_count": 47,
      "metadata": {},
      "outputs": [],
      "source": [
        "# Use the TimeSeriesGenerator class to prepare the data\n",
        "train = df[:int(0.8*(len(df)))]\n",
        "test = df[int(0.8*(len(df))):]\n",
        "seq_len = 5\n",
        "from keras.preprocessing.sequence import TimeseriesGenerator\n",
        "train_generator = TimeseriesGenerator(train['Voltage'].values, train['Voltage'].values, length=seq_len, batch_size=32)\n",
        "test_generator = TimeseriesGenerator(test['Voltage'].values, test['Voltage'].values, length=seq_len, batch_size=32)"
      ]
    },
    {
      "cell_type": "code",
      "execution_count": 48,
      "metadata": {},
      "outputs": [
        {
          "name": "stdout",
          "output_type": "stream",
          "text": [
            "Epoch 1/50\n",
            "855/855 [==============================] - 3s 2ms/step - loss: 40.2600 - mse: 40.2600 - mae: 2.7665 - val_loss: 4.1292 - val_mse: 4.1292 - val_mae: 1.5665\n",
            "Epoch 2/50\n",
            "855/855 [==============================] - 2s 2ms/step - loss: 4.9735 - mse: 4.9735 - mae: 1.7237 - val_loss: 3.3920 - val_mse: 3.3920 - val_mae: 1.4146\n",
            "Epoch 3/50\n",
            "855/855 [==============================] - 2s 2ms/step - loss: 4.1052 - mse: 4.1052 - mae: 1.5526 - val_loss: 2.9319 - val_mse: 2.9319 - val_mae: 1.3083\n",
            "Epoch 4/50\n",
            "855/855 [==============================] - 2s 2ms/step - loss: 3.6609 - mse: 3.6609 - mae: 1.4578 - val_loss: 2.7710 - val_mse: 2.7710 - val_mae: 1.2704\n",
            "Epoch 5/50\n",
            "855/855 [==============================] - 2s 2ms/step - loss: 3.5747 - mse: 3.5747 - mae: 1.4392 - val_loss: 2.8815 - val_mse: 2.8815 - val_mae: 1.2991\n",
            "Epoch 6/50\n",
            "855/855 [==============================] - 2s 2ms/step - loss: 3.6079 - mse: 3.6079 - mae: 1.4514 - val_loss: 2.7496 - val_mse: 2.7496 - val_mae: 1.2711\n",
            "Epoch 7/50\n",
            "855/855 [==============================] - 2s 2ms/step - loss: 3.5262 - mse: 3.5262 - mae: 1.4325 - val_loss: 2.7296 - val_mse: 2.7296 - val_mae: 1.2651\n",
            "Epoch 8/50\n",
            "855/855 [==============================] - 2s 2ms/step - loss: 3.5337 - mse: 3.5337 - mae: 1.4364 - val_loss: 2.7405 - val_mse: 2.7405 - val_mae: 1.2686\n",
            "Epoch 9/50\n",
            "855/855 [==============================] - 2s 2ms/step - loss: 3.5368 - mse: 3.5368 - mae: 1.4405 - val_loss: 2.7517 - val_mse: 2.7517 - val_mae: 1.2725\n",
            "Epoch 10/50\n",
            "855/855 [==============================] - 2s 2ms/step - loss: 3.5204 - mse: 3.5204 - mae: 1.4336 - val_loss: 3.0874 - val_mse: 3.0874 - val_mae: 1.3616\n",
            "Epoch 11/50\n",
            "855/855 [==============================] - 2s 2ms/step - loss: 3.5725 - mse: 3.5725 - mae: 1.4502 - val_loss: 2.7130 - val_mse: 2.7130 - val_mae: 1.2636\n",
            "Epoch 12/50\n",
            "855/855 [==============================] - 1s 2ms/step - loss: 3.4592 - mse: 3.4592 - mae: 1.4231 - val_loss: 2.6737 - val_mse: 2.6737 - val_mae: 1.2554\n",
            "Epoch 13/50\n",
            "855/855 [==============================] - 2s 2ms/step - loss: 3.4977 - mse: 3.4977 - mae: 1.4300 - val_loss: 3.2153 - val_mse: 3.2153 - val_mae: 1.4097\n",
            "Epoch 14/50\n",
            "855/855 [==============================] - 2s 2ms/step - loss: 3.4551 - mse: 3.4551 - mae: 1.4232 - val_loss: 2.8261 - val_mse: 2.8261 - val_mae: 1.2951\n",
            "Epoch 15/50\n",
            "855/855 [==============================] - 2s 2ms/step - loss: 3.5019 - mse: 3.5019 - mae: 1.4332 - val_loss: 2.6635 - val_mse: 2.6635 - val_mae: 1.2527\n",
            "Epoch 16/50\n",
            "855/855 [==============================] - 2s 2ms/step - loss: 3.5572 - mse: 3.5572 - mae: 1.4447 - val_loss: 2.6799 - val_mse: 2.6799 - val_mae: 1.2564\n",
            "Epoch 17/50\n",
            "855/855 [==============================] - 2s 2ms/step - loss: 3.3970 - mse: 3.3970 - mae: 1.4080 - val_loss: 2.7448 - val_mse: 2.7448 - val_mae: 1.2792\n",
            "Epoch 18/50\n",
            "855/855 [==============================] - 2s 2ms/step - loss: 3.4709 - mse: 3.4709 - mae: 1.4233 - val_loss: 2.7862 - val_mse: 2.7862 - val_mae: 1.2918\n",
            "Epoch 19/50\n",
            "855/855 [==============================] - 2s 2ms/step - loss: 3.4356 - mse: 3.4356 - mae: 1.4142 - val_loss: 3.1757 - val_mse: 3.1757 - val_mae: 1.3878\n",
            "Epoch 20/50\n",
            "855/855 [==============================] - 2s 2ms/step - loss: 3.4472 - mse: 3.4472 - mae: 1.4225 - val_loss: 2.8172 - val_mse: 2.8172 - val_mae: 1.2941\n",
            "Epoch 21/50\n",
            "855/855 [==============================] - 2s 2ms/step - loss: 3.4207 - mse: 3.4207 - mae: 1.4127 - val_loss: 2.7947 - val_mse: 2.7947 - val_mae: 1.2951\n",
            "Epoch 22/50\n",
            "855/855 [==============================] - 2s 2ms/step - loss: 3.4163 - mse: 3.4163 - mae: 1.4107 - val_loss: 2.6203 - val_mse: 2.6203 - val_mae: 1.2429\n",
            "Epoch 23/50\n",
            "855/855 [==============================] - 2s 2ms/step - loss: 3.3756 - mse: 3.3756 - mae: 1.4002 - val_loss: 2.6562 - val_mse: 2.6562 - val_mae: 1.2512\n",
            "Epoch 24/50\n",
            "855/855 [==============================] - 2s 2ms/step - loss: 3.3726 - mse: 3.3726 - mae: 1.4007 - val_loss: 3.7168 - val_mse: 3.7168 - val_mae: 1.5457\n",
            "Epoch 25/50\n",
            "855/855 [==============================] - 2s 2ms/step - loss: 3.4742 - mse: 3.4742 - mae: 1.4284 - val_loss: 2.9958 - val_mse: 2.9958 - val_mae: 1.3530\n",
            "Epoch 26/50\n",
            "855/855 [==============================] - 2s 2ms/step - loss: 3.3516 - mse: 3.3516 - mae: 1.3968 - val_loss: 2.6630 - val_mse: 2.6630 - val_mae: 1.2535\n",
            "Epoch 27/50\n",
            "855/855 [==============================] - 2s 2ms/step - loss: 3.4176 - mse: 3.4176 - mae: 1.4140 - val_loss: 3.2742 - val_mse: 3.2742 - val_mae: 1.4299\n",
            "Epoch 28/50\n",
            "855/855 [==============================] - 2s 2ms/step - loss: 3.3755 - mse: 3.3755 - mae: 1.4032 - val_loss: 2.8169 - val_mse: 2.8169 - val_mae: 1.3029\n",
            "Epoch 29/50\n",
            "855/855 [==============================] - 2s 2ms/step - loss: 3.3711 - mse: 3.3711 - mae: 1.4018 - val_loss: 3.6248 - val_mse: 3.6248 - val_mae: 1.5237\n",
            "Epoch 30/50\n",
            "855/855 [==============================] - 2s 2ms/step - loss: 3.3861 - mse: 3.3861 - mae: 1.4054 - val_loss: 2.6259 - val_mse: 2.6259 - val_mae: 1.2467\n",
            "Epoch 31/50\n",
            "855/855 [==============================] - 2s 2ms/step - loss: 3.3860 - mse: 3.3860 - mae: 1.4026 - val_loss: 2.7186 - val_mse: 2.7186 - val_mae: 1.2689\n",
            "Epoch 32/50\n",
            "855/855 [==============================] - 2s 2ms/step - loss: 3.3099 - mse: 3.3099 - mae: 1.3872 - val_loss: 2.5925 - val_mse: 2.5925 - val_mae: 1.2351\n",
            "Epoch 33/50\n",
            "855/855 [==============================] - 2s 2ms/step - loss: 3.3335 - mse: 3.3335 - mae: 1.3931 - val_loss: 2.7167 - val_mse: 2.7167 - val_mae: 1.2689\n",
            "Epoch 34/50\n",
            "855/855 [==============================] - 2s 2ms/step - loss: 3.4070 - mse: 3.4070 - mae: 1.4110 - val_loss: 2.6744 - val_mse: 2.6744 - val_mae: 1.2571\n",
            "Epoch 35/50\n",
            "855/855 [==============================] - 2s 2ms/step - loss: 3.2981 - mse: 3.2981 - mae: 1.3833 - val_loss: 2.6695 - val_mse: 2.6695 - val_mae: 1.2564\n",
            "Epoch 36/50\n",
            "855/855 [==============================] - 2s 2ms/step - loss: 3.3515 - mse: 3.3515 - mae: 1.3986 - val_loss: 2.5713 - val_mse: 2.5713 - val_mae: 1.2304\n",
            "Epoch 37/50\n",
            "855/855 [==============================] - 2s 2ms/step - loss: 3.3390 - mse: 3.3390 - mae: 1.3949 - val_loss: 2.5850 - val_mse: 2.5850 - val_mae: 1.2332\n",
            "Epoch 38/50\n",
            "855/855 [==============================] - 2s 2ms/step - loss: 3.3470 - mse: 3.3470 - mae: 1.3949 - val_loss: 2.5688 - val_mse: 2.5688 - val_mae: 1.2293\n",
            "Epoch 39/50\n",
            "855/855 [==============================] - 2s 2ms/step - loss: 3.3133 - mse: 3.3133 - mae: 1.3880 - val_loss: 3.5650 - val_mse: 3.5650 - val_mae: 1.4893\n",
            "Epoch 40/50\n",
            "855/855 [==============================] - 2s 2ms/step - loss: 3.3205 - mse: 3.3205 - mae: 1.3891 - val_loss: 2.5749 - val_mse: 2.5749 - val_mae: 1.2306\n",
            "Epoch 41/50\n",
            "855/855 [==============================] - 2s 2ms/step - loss: 3.3109 - mse: 3.3109 - mae: 1.3851 - val_loss: 2.8745 - val_mse: 2.8745 - val_mae: 1.3214\n",
            "Epoch 42/50\n",
            "855/855 [==============================] - 2s 2ms/step - loss: 3.3241 - mse: 3.3241 - mae: 1.3898 - val_loss: 2.8088 - val_mse: 2.8088 - val_mae: 1.3025\n",
            "Epoch 43/50\n",
            "855/855 [==============================] - 2s 2ms/step - loss: 3.3708 - mse: 3.3708 - mae: 1.4024 - val_loss: 2.5839 - val_mse: 2.5839 - val_mae: 1.2353\n",
            "Epoch 44/50\n",
            "855/855 [==============================] - 2s 2ms/step - loss: 3.2799 - mse: 3.2799 - mae: 1.3814 - val_loss: 2.6759 - val_mse: 2.6759 - val_mae: 1.2638\n",
            "Epoch 45/50\n",
            "855/855 [==============================] - 2s 2ms/step - loss: 3.3201 - mse: 3.3201 - mae: 1.3880 - val_loss: 2.6001 - val_mse: 2.6001 - val_mae: 1.2374\n",
            "Epoch 46/50\n",
            "855/855 [==============================] - 2s 2ms/step - loss: 3.3118 - mse: 3.3118 - mae: 1.3883 - val_loss: 2.5539 - val_mse: 2.5539 - val_mae: 1.2263\n",
            "Epoch 47/50\n",
            "855/855 [==============================] - 2s 2ms/step - loss: 3.2839 - mse: 3.2839 - mae: 1.3811 - val_loss: 2.5990 - val_mse: 2.5990 - val_mae: 1.2409\n",
            "Epoch 48/50\n",
            "855/855 [==============================] - 2s 2ms/step - loss: 3.2963 - mse: 3.2963 - mae: 1.3834 - val_loss: 2.9843 - val_mse: 2.9843 - val_mae: 1.3532\n",
            "Epoch 49/50\n",
            "855/855 [==============================] - 2s 2ms/step - loss: 3.3074 - mse: 3.3074 - mae: 1.3864 - val_loss: 2.6465 - val_mse: 2.6465 - val_mae: 1.2556\n",
            "Epoch 50/50\n",
            "855/855 [==============================] - 2s 2ms/step - loss: 3.3392 - mse: 3.3392 - mae: 1.3922 - val_loss: 2.6091 - val_mse: 2.6091 - val_mae: 1.2440\n"
          ]
        }
      ],
      "source": [
        "# Train the model  to predict the voltage\n",
        "from tensorflow.keras.callbacks import EarlyStopping\n",
        "\n",
        "es = EarlyStopping(monitor='val_loss', mode='min', verbose=1, patience=5, min_delta=0.0001)\n",
        "history = model.fit(train_generator, epochs=50, validation_data=test_generator)"
      ]
    },
    {
      "cell_type": "code",
      "execution_count": 49,
      "metadata": {
        "colab": {
          "base_uri": "https://localhost:8080/"
        },
        "id": "kwBIKaLnFa9D",
        "outputId": "4d090a49-bcd2-408a-9ba3-8cfdbe25a65c"
      },
      "outputs": [
        {
          "name": "stdout",
          "output_type": "stream",
          "text": [
            "1/1 [==============================] - 0s 67ms/step\n",
            "X=[ 913 1072 1595 3736 5340], Predicted=[2331.1582]\n"
          ]
        }
      ],
      "source": [
        "xnew=np.array([[913,1072,1595,3736,5340]])\n",
        "ynew= model.predict(xnew)\n",
        "print(\"X=%s, Predicted=%s\" % (xnew[0], ynew[0]))"
      ]
    },
    {
      "cell_type": "code",
      "execution_count": 56,
      "metadata": {
        "id": "4WdLDjVMKoHM"
      },
      "outputs": [],
      "source": [
        "model.save('predtest.h5')"
      ]
    },
    {
      "cell_type": "code",
      "execution_count": 62,
      "metadata": {},
      "outputs": [
        {
          "name": "stdout",
          "output_type": "stream",
          "text": [
            "INFO:tensorflow:Assets written to: C:\\Users\\Admin\\AppData\\Local\\Temp\\tmpb8k8rydy\\assets\n"
          ]
        },
        {
          "name": "stderr",
          "output_type": "stream",
          "text": [
            "INFO:tensorflow:Assets written to: C:\\Users\\Admin\\AppData\\Local\\Temp\\tmpb8k8rydy\\assets\n"
          ]
        }
      ],
      "source": [
        "import tensorflow as tf\n",
        "\n",
        "h5_model_path = 'predtest.h5'\n",
        "\n",
        "# Load the Keras model\n",
        "model = tf.keras.models.load_model(h5_model_path)\n",
        "\n",
        "# Convert the model\n",
        "converter = tf.lite.TFLiteConverter.from_keras_model(model)\n",
        "tflite_model = converter.convert()\n",
        "\n",
        "# Save the model\n",
        "with open('model.tflite', 'wb') as f:\n",
        "  f.write(tflite_model)"
      ]
    },
    {
      "cell_type": "code",
      "execution_count": 63,
      "metadata": {
        "colab": {
          "base_uri": "https://localhost:8080/"
        },
        "id": "j6CC5OUkMqVz",
        "outputId": "fd5c6608-0d74-4a40-cc55-e733b494a3c7"
      },
      "outputs": [
        {
          "name": "stdout",
          "output_type": "stream",
          "text": [
            "1/1 [==============================] - 0s 114ms/step\n",
            "X=[ 913 1072 1595 3736 5340], Predicted=[2331.1582]\n"
          ]
        }
      ],
      "source": [
        "xnew=np.array([[913,1072,1595,3736,5340]])\n",
        "ynew= model.predict(xnew)\n",
        "print(\"X=%s, Predicted=%s\" % (xnew[0], ynew[0]))"
      ]
    },
    {
      "cell_type": "code",
      "execution_count": 85,
      "metadata": {},
      "outputs": [
        {
          "name": "stdout",
          "output_type": "stream",
          "text": [
            "33506\n",
            "1/1 [==============================] - 0s 21ms/step\n",
            "X=[[245.64566667 242.10933333 243.06133333 239.85716667 243.37783333]]\n",
            "Predicted=[[243.45512]]\n",
            "Actual=242.17833\n"
          ]
        }
      ],
      "source": [
        "# Select random samples to predict the voltage\n",
        "import random\n",
        "\n",
        "# Select a random starting point\n",
        "random_start = random.randint(0, len(df)-seq_len)\n",
        "print(random_start)\n",
        "\n",
        "# Create a random sample of 5 time steps\n",
        "xnew = df['Voltage'][random_start:random_start+seq_len].values\n",
        "xnew = xnew.reshape((1, seq_len))\n",
        "\n",
        "# Predict the voltage\n",
        "ynew = model.predict(xnew)\n",
        "print(f\"X={xnew}\")\n",
        "print(f\"Predicted={ynew}\")\n",
        "# Actual voltage\n",
        "print(f\"Actual={(round(df['Voltage'][random_start+seq_len],5))}\")"
      ]
    },
    {
      "cell_type": "code",
      "execution_count": null,
      "metadata": {
        "id": "b6om1dRaFJio"
      },
      "outputs": [],
      "source": [
        "# print(history.history.keys())\n",
        "# # \"Loss\"\n",
        "# plt.plot(history.history['loss'])\n",
        "# plt.plot(history.history['mse'])\n",
        "# plt.title('model loss')\n",
        "# plt.ylabel('loss')\n",
        "# plt.xlabel('epoch')\n",
        "# plt.legend(['train', 'validation'], loc='upper left')\n",
        "# plt.show()"
      ]
    },
    {
      "cell_type": "code",
      "execution_count": null,
      "metadata": {
        "id": "488c68W_GyBz"
      },
      "outputs": [],
      "source": []
    }
  ],
  "metadata": {
    "colab": {
      "authorship_tag": "ABX9TyNkfx4KvPkGcix2aiCIGbha",
      "collapsed_sections": [],
      "include_colab_link": true,
      "name": "prediction.ipynb",
      "provenance": [],
      "toc_visible": true
    },
    "kernelspec": {
      "display_name": "Python 3",
      "name": "python3"
    },
    "language_info": {
      "codemirror_mode": {
        "name": "ipython",
        "version": 3
      },
      "file_extension": ".py",
      "mimetype": "text/x-python",
      "name": "python",
      "nbconvert_exporter": "python",
      "pygments_lexer": "ipython3",
      "version": "3.11.5"
    }
  },
  "nbformat": 4,
  "nbformat_minor": 0
}
